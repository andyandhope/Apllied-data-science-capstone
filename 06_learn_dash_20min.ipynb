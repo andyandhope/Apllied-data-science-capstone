{
 "cells": [
  {
   "cell_type": "code",
   "execution_count": null,
   "metadata": {},
   "outputs": [],
   "source": [
    "\"\"\"\n",
    "# Dash in 20 Minutes\n",
    "# https://dash.plotly.com/tutorial\n",
    "\"\"\"\n",
    "from dash import Dash, html\n",
    "\n",
    "app = Dash(__name__)\n",
    "\n",
    "app.layout = html.Div([html.Div(children=\"Hello World\")])\n",
    "\n",
    "if __name__ == \"__main__\":\n",
    "    app.run(debug=True)"
   ]
  },
  {
   "cell_type": "markdown",
   "metadata": {},
   "source": [
    "<!-- @format -->\n",
    "\n",
    "### now Connecting to Data\n",
    "\n",
    "There are many ways to add data to an app: APIs, external databases, local .txt files, JSON files, and more. In this example, we will highlight one of the most common ways of incorporating data from a CSV sheet.\n",
    "\n",
    "Replace the app.py code from the previous section with the code below. Then, install pandas (pip install pandas) and launch the app.\n"
   ]
  },
  {
   "cell_type": "code",
   "execution_count": null,
   "metadata": {},
   "outputs": [],
   "source": [
    "# Import packages\n",
    "from dash import Dash, html, dash_table\n",
    "import pandas as pd\n",
    "\n",
    "# Incorporate data\n",
    "df = pd.read_csv(\n",
    "    \"https://raw.githubusercontent.com/plotly/datasets/master/gapminder2007.csv\"\n",
    ")\n",
    "\n",
    "# Initialize the app\n",
    "app = Dash(__name__)\n",
    "\n",
    "# App layout\n",
    "app.layout = html.Div(\n",
    "    [\n",
    "        html.Div(children=\"My First App with Data\"),\n",
    "        dash_table.DataTable(data=df.to_dict(\"records\"), page_size=10),\n",
    "    ]\n",
    ")\n",
    "\n",
    "# Run the app\n",
    "if __name__ == \"__main__\":\n",
    "    app.run(debug=True)"
   ]
  },
  {
   "cell_type": "markdown",
   "metadata": {},
   "source": [
    "<!-- @format -->\n",
    "\n",
    "### Connect to Data: Code Breakdown\n",
    "\n",
    "We import the dash_table module to display the data inside a Dash DataTable. We also import the pandas library to read the CSV sheet data.\n"
   ]
  },
  {
   "cell_type": "markdown",
   "metadata": {},
   "source": [
    "<!-- @format -->\n",
    "\n",
    "Here we read the CSV sheet into a pandas dataframe. This will make it easier to slice, filter, and inspect the data.\n",
    "\n",
    "If you prefer to use a CSV sheet that is on your computer (and not online), make sure to save it in the same folder that contains the app.py file. Then, update the line of code to: df = pd.read_csv('NameOfYourFile.csv')\n",
    "\n",
    "If you're using an Excel sheet, make sure to pip install openpyxl. Then, update the line of code to: df = pd.read_excel('NameOfYourFile.xlsx', sheet_name='Sheet1')\n"
   ]
  },
  {
   "cell_type": "code",
   "execution_count": null,
   "metadata": {},
   "outputs": [],
   "source": [
    "# Import packages\n",
    "from dash import Dash, html, dash_table\n",
    "import pandas as pd\n",
    "\n",
    "# Incorporate data\n",
    "df = pd.read_csv(\n",
    "    \"https://raw.githubusercontent.com/plotly/datasets/master/gapminder2007.csv\"\n",
    ")\n",
    "df\n",
    "\n",
    "# App layout\n",
    "app.layout = html.Div(\n",
    "    [\n",
    "        html.Div(children=\"My First App with Data\"),\n",
    "        dash_table.DataTable(data=df.to_dict(\"records\"), page_size=10),\n",
    "    ]\n",
    ")\n",
    "\n",
    "# In addition to the app title, we add the DataTable component and read the pandas dataframe into the table."
   ]
  },
  {
   "cell_type": "markdown",
   "metadata": {},
   "source": [
    "<!-- @format -->\n",
    "\n",
    "## Visualizing Data\n",
    "\n",
    "The Plotly graphing library has more than 50 chart types to choose from. In this example, we will make use of the histogram chart.\n",
    "\n",
    "Replace the app.py code from the previous section with the code below.\n"
   ]
  },
  {
   "cell_type": "code",
   "execution_count": null,
   "metadata": {},
   "outputs": [],
   "source": [
    "# Import packages\n",
    "from dash import Dash, html, dash_table, dcc\n",
    "import pandas as pd\n",
    "import plotly.express as px\n",
    "\n",
    "# Incorporate data\n",
    "df = pd.read_csv(\n",
    "    \"https://raw.githubusercontent.com/plotly/datasets/master/gapminder2007.csv\"\n",
    ")\n",
    "\n",
    "# Initialize the app\n",
    "app = Dash(__name__)\n",
    "\n",
    "# App layout\n",
    "app.layout = html.Div(\n",
    "    [\n",
    "        html.Div(children=\"My First App with Data and a Graph\"),\n",
    "        dash_table.DataTable(data=df.to_dict(\"records\"), page_size=10),\n",
    "        dcc.Graph(figure=px.histogram(df, x=\"continent\", y=\"lifeExp\", histfunc=\"avg\")),\n",
    "    ]\n",
    ")\n",
    "\n",
    "# Run the app\n",
    "if __name__ == \"__main__\":\n",
    "    app.run(debug=True)"
   ]
  },
  {
   "cell_type": "markdown",
   "metadata": {},
   "source": [
    "<!-- @format -->\n",
    "\n",
    "### Visualize Data: Code Breakdown\n",
    "\n",
    "We import the dcc module (DCC stands for Dash Core Components). This module includes a Graph component called dcc.Graph, which is used to render interactive graphs.\n",
    "\n",
    "We also import the plotly.express library to build the interactive graphs.\n"
   ]
  },
  {
   "cell_type": "code",
   "execution_count": 10,
   "metadata": {},
   "outputs": [],
   "source": [
    "# Import packages\n",
    "from dash import Dash, html, dash_table, dcc\n",
    "import pandas as pd\n",
    "import plotly.express as px\n",
    "\n",
    "# App layout\n",
    "app.layout = html.Div(\n",
    "    [\n",
    "        html.Div(children=\"My First App with Data and a Graph\"),\n",
    "        dash_table.DataTable(data=df.to_dict(\"records\"), page_size=10),\n",
    "        dcc.Graph(figure=px.histogram(df, x=\"continent\", y=\"lifeExp\", histfunc=\"avg\")),\n",
    "    ]\n",
    ")\n",
    "\n",
    "# Using the plotly.express library, we build the histogram chart and assign it to the figure property of the dcc.Graph. This displays the histogram in our app."
   ]
  },
  {
   "cell_type": "markdown",
   "metadata": {},
   "source": [
    "<!-- @format -->\n",
    "\n",
    "Controls and Callbacks\n",
    "\n",
    "So far you have built a static app that displays tabular data and a graph. However, as you develop more sophisticated Dash apps, you will likely want to give the app user more freedom to interact with the app and explore the data in greater depth. To achieve that, you will need to add controls to the app by using the callback function.\n",
    "\n",
    "In this example we will add radio buttons to the app layout. Then, we will build the callback to create the interaction between the radio buttons and the histogram chart.\n"
   ]
  },
  {
   "cell_type": "code",
   "execution_count": 11,
   "metadata": {},
   "outputs": [
    {
     "data": {
      "text/html": [
       "\n",
       "        <iframe\n",
       "            width=\"100%\"\n",
       "            height=\"650\"\n",
       "            src=\"http://127.0.0.1:8050/\"\n",
       "            frameborder=\"0\"\n",
       "            allowfullscreen\n",
       "            \n",
       "        ></iframe>\n",
       "        "
      ],
      "text/plain": [
       "<IPython.lib.display.IFrame at 0x159567410>"
      ]
     },
     "metadata": {},
     "output_type": "display_data"
    }
   ],
   "source": [
    "# Import packages\n",
    "from dash import Dash, html, dash_table, dcc, callback, Output, Input\n",
    "import pandas as pd\n",
    "import plotly.express as px\n",
    "\n",
    "# Incorporate data\n",
    "df = pd.read_csv(\n",
    "    \"https://raw.githubusercontent.com/plotly/datasets/master/gapminder2007.csv\"\n",
    ")\n",
    "\n",
    "# Initialize the app\n",
    "app = Dash(__name__)\n",
    "\n",
    "# App layout\n",
    "app.layout = html.Div(\n",
    "    [\n",
    "        html.Div(children=\"My First App with Data, Graph, and Controls\"),\n",
    "        html.Hr(),\n",
    "        dcc.RadioItems(\n",
    "            options=[\"pop\", \"lifeExp\", \"gdpPercap\"],\n",
    "            value=\"lifeExp\",\n",
    "            id=\"controls-and-radio-item\",\n",
    "        ),\n",
    "        dash_table.DataTable(data=df.to_dict(\"records\"), page_size=6),\n",
    "        dcc.Graph(figure={}, id=\"controls-and-graph\"),\n",
    "    ]\n",
    ")\n",
    "\n",
    "\n",
    "# Add controls to build the interaction\n",
    "@callback(\n",
    "    Output(component_id=\"controls-and-graph\", component_property=\"figure\"),\n",
    "    Input(component_id=\"controls-and-radio-item\", component_property=\"value\"),\n",
    ")\n",
    "def update_graph(col_chosen):\n",
    "    fig = px.histogram(df, x=\"continent\", y=col_chosen, histfunc=\"avg\")\n",
    "    return fig\n",
    "\n",
    "\n",
    "# Run the app\n",
    "if __name__ == \"__main__\":\n",
    "    app.run(debug=True)"
   ]
  },
  {
   "cell_type": "markdown",
   "metadata": {},
   "source": [
    "<!-- @format -->\n",
    "\n",
    "Controls: Code Breakdown\n"
   ]
  },
  {
   "cell_type": "code",
   "execution_count": null,
   "metadata": {},
   "outputs": [],
   "source": [
    "# Import packages\n",
    "# from dash import Dash, html, dash_table, dcc, callback, Output, Input\n",
    "# We import dcc like we did in the previous section to use dcc.Graph. In this example, we need dcc for dcc.Graph as well as the radio buttons component, dcc.RadioItems.\n",
    "\n",
    "# To work with the callback in a Dash app, we import the callback module and the two arguments commonly used within the callback: Output and Input.\n",
    "\n",
    "# App layout\n",
    "app.layout = html.Div(\n",
    "    [\n",
    "        html.Div(children=\"My First App with Data, Graph, and Controls\"),\n",
    "        html.Hr(),\n",
    "        dcc.RadioItems(\n",
    "            options=[\"pop\", \"lifeExp\", \"gdpPercap\"],\n",
    "            value=\"lifeExp\",\n",
    "            id=\"controls-and-radio-item\",\n",
    "        ),\n",
    "        dash_table.DataTable(data=df.to_dict(\"records\"), page_size=6),\n",
    "        dcc.Graph(figure={}, id=\"controls-and-graph\"),\n",
    "    ]\n",
    ")\n",
    "\n",
    "# Notice that we add that RadioItems component to the layout, directly above the DataTable. There are three options, one for every radio button. The lifeExp option is assigned to the value property, making it the currently selected value.\n",
    "\n",
    "# Both the RadioItems and the Graph components were given id names: these will be used by the callback to identify the components.\n",
    "\n",
    "\n",
    "# Add controls to build the interaction\n",
    "@callback(\n",
    "    Output(component_id=\"controls-and-graph\", component_property=\"figure\"),\n",
    "    Input(component_id=\"controls-and-radio-item\", component_property=\"value\"),\n",
    ")\n",
    "def update_graph(col_chosen):\n",
    "    fig = px.histogram(df, x=\"continent\", y=col_chosen, histfunc=\"avg\")\n",
    "    return fig"
   ]
  },
  {
   "cell_type": "markdown",
   "metadata": {},
   "source": [
    "<!-- @format -->\n",
    "\n",
    "The inputs and outputs of our app are the properties of a particular component. In this example, our input is the value property of the component that has the ID \"controls-and-radio-item\". If you look back at the layout, you will see that this is currently lifeExp. Our output is the figure property of the component with the ID \"controls-and-graph\", which is currently an empty dictionary (empty graph).\n",
    "\n",
    "The callback function's argument col_chosen refers to the component property of the input lifeExp. We build the histogram chart inside the callback function, assigning the chosen radio item to the y-axis attribute of the histogram. This means that every time the user selects a new radio item, the figure is rebuilt and the y-axis of the figure is updated.\n",
    "\n",
    "Finally, we return the histogram at the end of the function. This assigns the histogram to the figure property of the dcc.Graph, thus displaying the figure in the app.\n",
    "\n",
    "### Styling Your App\n",
    "\n",
    "The examples in the previous section used Dash HTML Components to build a simple app layout, but you can style your app to look more professional. This section will give a brief overview of the multiple tools that you can use to enhance the layout style of a Dash app:\n",
    "\n",
    "HTML and CSS\n",
    "Dash Design Kit (DDK)\n",
    "Dash Bootstrap Components\n",
    "Dash Mantine Components\n",
    "\n",
    "##### HTML and CSS\n",
    "\n",
    "HTML and CSS are the lowest level of interface for rendering content on the web. The HTML is a set of components, and CSS is a set of styles applied to those components. CSS styles can be applied within components via the style property, or they can be defined as a separate CSS file in reference with the className property, as in the example below.\n"
   ]
  },
  {
   "cell_type": "code",
   "execution_count": 12,
   "metadata": {},
   "outputs": [
    {
     "data": {
      "text/html": [
       "\n",
       "        <iframe\n",
       "            width=\"100%\"\n",
       "            height=\"650\"\n",
       "            src=\"http://127.0.0.1:8050/\"\n",
       "            frameborder=\"0\"\n",
       "            allowfullscreen\n",
       "            \n",
       "        ></iframe>\n",
       "        "
      ],
      "text/plain": [
       "<IPython.lib.display.IFrame at 0x134275590>"
      ]
     },
     "metadata": {},
     "output_type": "display_data"
    }
   ],
   "source": [
    "# Import packages\n",
    "from dash import Dash, html, dash_table, dcc, callback, Output, Input\n",
    "import pandas as pd\n",
    "import plotly.express as px\n",
    "\n",
    "# Incorporate data\n",
    "df = pd.read_csv(\n",
    "    \"https://raw.githubusercontent.com/plotly/datasets/master/gapminder2007.csv\"\n",
    ")\n",
    "\n",
    "# Initialize the app - incorporate css\n",
    "external_stylesheets = [\"https://codepen.io/chriddyp/pen/bWLwgP.css\"]\n",
    "app = Dash(__name__, external_stylesheets=external_stylesheets)\n",
    "\n",
    "# App layout\n",
    "app.layout = html.Div(\n",
    "    [\n",
    "        html.Div(\n",
    "            className=\"row\",\n",
    "            children=\"My First App with Data, Graph, and Controls\",\n",
    "            style={\"textAlign\": \"center\", \"color\": \"blue\", \"fontSize\": 30},\n",
    "        ),\n",
    "        html.Div(\n",
    "            className=\"row\",\n",
    "            children=[\n",
    "                dcc.RadioItems(\n",
    "                    options=[\"pop\", \"lifeExp\", \"gdpPercap\"],\n",
    "                    value=\"lifeExp\",\n",
    "                    inline=True,\n",
    "                    id=\"my-radio-buttons-final\",\n",
    "                )\n",
    "            ],\n",
    "        ),\n",
    "        html.Div(\n",
    "            className=\"row\",\n",
    "            children=[\n",
    "                html.Div(\n",
    "                    className=\"six columns\",\n",
    "                    children=[\n",
    "                        dash_table.DataTable(\n",
    "                            data=df.to_dict(\"records\"),\n",
    "                            page_size=11,\n",
    "                            style_table={\"overflowX\": \"auto\"},\n",
    "                        )\n",
    "                    ],\n",
    "                ),\n",
    "                html.Div(\n",
    "                    className=\"six columns\",\n",
    "                    children=[dcc.Graph(figure={}, id=\"histo-chart-final\")],\n",
    "                ),\n",
    "            ],\n",
    "        ),\n",
    "    ]\n",
    ")\n",
    "\n",
    "\n",
    "# Add controls to build the interaction\n",
    "@callback(\n",
    "    Output(component_id=\"histo-chart-final\", component_property=\"figure\"),\n",
    "    Input(component_id=\"my-radio-buttons-final\", component_property=\"value\"),\n",
    ")\n",
    "def update_graph(col_chosen):\n",
    "    fig = px.histogram(df, x=\"continent\", y=col_chosen, histfunc=\"avg\")\n",
    "    return fig\n",
    "\n",
    "\n",
    "# Run the app\n",
    "if __name__ == \"__main__\":\n",
    "    app.run(debug=True)"
   ]
  },
  {
   "cell_type": "markdown",
   "metadata": {},
   "source": [
    "<!-- @format -->\n",
    "\n",
    "### Dash Design Kit (DDK)\n",
    "\n",
    "Dash Design Kit is our high level UI framework that is purpose-built for Dash. With Dash Design Kit, you don't need to use HTML or CSS. Apps are mobile responsive by default and everything is themeable. Dash Design Kit is licensed as part of Dash Enterprise and officially supported by Plotly.\n",
    "\n",
    "Here's an example of what you can do with Dash Design Kit (note that you won't be able to run this example without a Dash Enterprise license).\n"
   ]
  },
  {
   "cell_type": "code",
   "execution_count": 14,
   "metadata": {},
   "outputs": [
    {
     "name": "stdout",
     "output_type": "stream",
     "text": [
      "Collecting dash_design_kit\n",
      "  Downloading dash_design_kit-0.0.1-py2.py3-none-any.whl (2.8 kB)\n",
      "Installing collected packages: dash_design_kit\n",
      "Successfully installed dash_design_kit-0.0.1\n"
     ]
    }
   ],
   "source": [
    "# !pip install dash_design_kit"
   ]
  },
  {
   "cell_type": "code",
   "execution_count": 15,
   "metadata": {},
   "outputs": [
    {
     "ename": "Exception",
     "evalue": "\n\n    dash-design-kit is a commercial package distributed on\n    instances of Dash Enterprise https://plotly.com/dash/.\n    You have installed a non-functional stub version of the package\n    from pypi.org instead of from a private Dash Enterprise instance.\n    If you are a Dash Enterprise customer, please ensure you've\n    installed dash-design-kit with the `--extra-index-url` argument,\n    either in your requirements.txt file or in the command line,\n    so that the package is installed from Dash Enterprise's private,\n    commercial package repository instead of from pypi.org.\n    Visit the docs for your Dash Enterprise installation at:\n    https://<your-dash-enterprise-instance>/Docs\n    for details.\n\n",
     "output_type": "error",
     "traceback": [
      "\u001b[0;31m---------------------------------------------------------------------------\u001b[0m",
      "\u001b[0;31mException\u001b[0m                                 Traceback (most recent call last)",
      "Cell \u001b[0;32mIn[15], line 5\u001b[0m\n\u001b[1;32m      3\u001b[0m \u001b[38;5;28;01mimport\u001b[39;00m \u001b[38;5;21;01mpandas\u001b[39;00m \u001b[38;5;28;01mas\u001b[39;00m \u001b[38;5;21;01mpd\u001b[39;00m\n\u001b[1;32m      4\u001b[0m \u001b[38;5;28;01mimport\u001b[39;00m \u001b[38;5;21;01mplotly\u001b[39;00m\u001b[38;5;21;01m.\u001b[39;00m\u001b[38;5;21;01mexpress\u001b[39;00m \u001b[38;5;28;01mas\u001b[39;00m \u001b[38;5;21;01mpx\u001b[39;00m\n\u001b[0;32m----> 5\u001b[0m \u001b[38;5;28;01mimport\u001b[39;00m \u001b[38;5;21;01mdash_design_kit\u001b[39;00m \u001b[38;5;28;01mas\u001b[39;00m \u001b[38;5;21;01mddk\u001b[39;00m\n\u001b[1;32m      7\u001b[0m \u001b[38;5;66;03m# Incorporate data\u001b[39;00m\n\u001b[1;32m      8\u001b[0m df \u001b[38;5;241m=\u001b[39m pd\u001b[38;5;241m.\u001b[39mread_csv(\n\u001b[1;32m      9\u001b[0m     \u001b[38;5;124m\"\u001b[39m\u001b[38;5;124mhttps://raw.githubusercontent.com/plotly/datasets/master/gapminder2007.csv\u001b[39m\u001b[38;5;124m\"\u001b[39m\n\u001b[1;32m     10\u001b[0m )\n",
      "File \u001b[0;32m~/miniforge3/envs/spyder-env/lib/python3.11/site-packages/dash_design_kit/__init__.py:1\u001b[0m\n\u001b[0;32m----> 1\u001b[0m \u001b[38;5;28;01mraise\u001b[39;00m \u001b[38;5;167;01mException\u001b[39;00m(\u001b[38;5;124m\"\"\"\u001b[39m\n\u001b[1;32m      2\u001b[0m \n\u001b[1;32m      3\u001b[0m \u001b[38;5;124m    dash-design-kit is a commercial package distributed on\u001b[39m\n\u001b[1;32m      4\u001b[0m \u001b[38;5;124m    instances of Dash Enterprise https://plotly.com/dash/.\u001b[39m\n\u001b[1;32m      5\u001b[0m \u001b[38;5;124m    You have installed a non-functional stub version of the package\u001b[39m\n\u001b[1;32m      6\u001b[0m \u001b[38;5;124m    from pypi.org instead of from a private Dash Enterprise instance.\u001b[39m\n\u001b[1;32m      7\u001b[0m \u001b[38;5;124m    If you are a Dash Enterprise customer, please ensure you\u001b[39m\u001b[38;5;124m'\u001b[39m\u001b[38;5;124mve\u001b[39m\n\u001b[1;32m      8\u001b[0m \u001b[38;5;124m    installed dash-design-kit with the `--extra-index-url` argument,\u001b[39m\n\u001b[1;32m      9\u001b[0m \u001b[38;5;124m    either in your requirements.txt file or in the command line,\u001b[39m\n\u001b[1;32m     10\u001b[0m \u001b[38;5;124m    so that the package is installed from Dash Enterprise\u001b[39m\u001b[38;5;124m'\u001b[39m\u001b[38;5;124ms private,\u001b[39m\n\u001b[1;32m     11\u001b[0m \u001b[38;5;124m    commercial package repository instead of from pypi.org.\u001b[39m\n\u001b[1;32m     12\u001b[0m \u001b[38;5;124m    Visit the docs for your Dash Enterprise installation at:\u001b[39m\n\u001b[1;32m     13\u001b[0m \u001b[38;5;124m    https://<your-dash-enterprise-instance>/Docs\u001b[39m\n\u001b[1;32m     14\u001b[0m \u001b[38;5;124m    for details.\u001b[39m\n\u001b[1;32m     15\u001b[0m \n\u001b[1;32m     16\u001b[0m \u001b[38;5;124m\"\"\"\u001b[39m)\n",
      "\u001b[0;31mException\u001b[0m: \n\n    dash-design-kit is a commercial package distributed on\n    instances of Dash Enterprise https://plotly.com/dash/.\n    You have installed a non-functional stub version of the package\n    from pypi.org instead of from a private Dash Enterprise instance.\n    If you are a Dash Enterprise customer, please ensure you've\n    installed dash-design-kit with the `--extra-index-url` argument,\n    either in your requirements.txt file or in the command line,\n    so that the package is installed from Dash Enterprise's private,\n    commercial package repository instead of from pypi.org.\n    Visit the docs for your Dash Enterprise installation at:\n    https://<your-dash-enterprise-instance>/Docs\n    for details.\n\n"
     ]
    }
   ],
   "source": [
    "# Import packages\n",
    "from dash import Dash, html, dash_table, dcc, callback, Output, Input\n",
    "import pandas as pd\n",
    "import plotly.express as px\n",
    "import dash_design_kit as ddk\n",
    "\n",
    "# Incorporate data\n",
    "df = pd.read_csv(\n",
    "    \"https://raw.githubusercontent.com/plotly/datasets/master/gapminder2007.csv\"\n",
    ")\n",
    "\n",
    "# Initialize the app\n",
    "app = Dash(__name__)\n",
    "\n",
    "# App layout\n",
    "app.layout = ddk.App(\n",
    "    [\n",
    "        ddk.Header(ddk.Title(\"My First App with Data, Graph, and Controls\")),\n",
    "        dcc.RadioItems(\n",
    "            options=[\"pop\", \"lifeExp\", \"gdpPercap\"],\n",
    "            value=\"lifeExp\",\n",
    "            inline=True,\n",
    "            id=\"my-ddk-radio-items-final\",\n",
    "        ),\n",
    "        ddk.Row(\n",
    "            [\n",
    "                ddk.Card(\n",
    "                    [\n",
    "                        dash_table.DataTable(\n",
    "                            data=df.to_dict(\"records\"),\n",
    "                            page_size=12,\n",
    "                            style_table={\"overflowX\": \"auto\"},\n",
    "                        )\n",
    "                    ],\n",
    "                    width=50,\n",
    "                ),\n",
    "                ddk.Card(\n",
    "                    [ddk.Graph(figure={}, id=\"graph-placeholder-ddk-final\")], width=50\n",
    "                ),\n",
    "            ]\n",
    "        ),\n",
    "    ]\n",
    ")\n",
    "\n",
    "\n",
    "# Add controls to build the interaction\n",
    "@callback(\n",
    "    Output(component_id=\"graph-placeholder-ddk-final\", component_property=\"figure\"),\n",
    "    Input(component_id=\"my-ddk-radio-items-final\", component_property=\"value\"),\n",
    ")\n",
    "def update_graph(col_chosen):\n",
    "    fig = px.histogram(df, x=\"continent\", y=col_chosen, histfunc=\"avg\")\n",
    "    return fig\n",
    "\n",
    "\n",
    "# Run the app\n",
    "if __name__ == \"__main__\":\n",
    "    app.run(debug=True)"
   ]
  },
  {
   "cell_type": "markdown",
   "metadata": {},
   "source": [
    "<!-- @format -->\n",
    "\n",
    "### Dash Bootstrap Components\n",
    "\n",
    "Dash Bootstrap is a community-maintained library built off of the bootstrap component system. Although it is not officially maintained or supported by Plotly, Dash Bootstrap is a powerful way of building elegant app layouts. Notice that we first define a row and then the width of columns inside the row, using the dbc.Row and dbc.Col components.\n",
    "\n",
    "For the app below to run successfully, make sure to install the Dash Bootstrap Components library: pip install dash-bootstrap-components\n"
   ]
  },
  {
   "cell_type": "code",
   "execution_count": 17,
   "metadata": {},
   "outputs": [
    {
     "name": "stdout",
     "output_type": "stream",
     "text": [
      "Collecting dash_bootstrap_components\n",
      "  Downloading dash_bootstrap_components-1.5.0-py3-none-any.whl.metadata (5.2 kB)\n",
      "Requirement already satisfied: dash>=2.0.0 in /Users/macjianfeng/miniforge3/envs/spyder-env/lib/python3.11/site-packages (from dash_bootstrap_components) (2.14.2)\n",
      "Requirement already satisfied: Flask<3.1,>=1.0.4 in /Users/macjianfeng/miniforge3/envs/spyder-env/lib/python3.11/site-packages (from dash>=2.0.0->dash_bootstrap_components) (3.0.1)\n",
      "Requirement already satisfied: Werkzeug<3.1 in /Users/macjianfeng/miniforge3/envs/spyder-env/lib/python3.11/site-packages (from dash>=2.0.0->dash_bootstrap_components) (3.0.1)\n",
      "Requirement already satisfied: plotly>=5.0.0 in /Users/macjianfeng/miniforge3/envs/spyder-env/lib/python3.11/site-packages (from dash>=2.0.0->dash_bootstrap_components) (5.18.0)\n",
      "Requirement already satisfied: dash-html-components==2.0.0 in /Users/macjianfeng/miniforge3/envs/spyder-env/lib/python3.11/site-packages (from dash>=2.0.0->dash_bootstrap_components) (2.0.0)\n",
      "Requirement already satisfied: dash-core-components==2.0.0 in /Users/macjianfeng/miniforge3/envs/spyder-env/lib/python3.11/site-packages (from dash>=2.0.0->dash_bootstrap_components) (2.0.0)\n",
      "Requirement already satisfied: dash-table==5.0.0 in /Users/macjianfeng/miniforge3/envs/spyder-env/lib/python3.11/site-packages (from dash>=2.0.0->dash_bootstrap_components) (5.0.0)\n",
      "Requirement already satisfied: typing-extensions>=4.1.1 in /Users/macjianfeng/miniforge3/envs/spyder-env/lib/python3.11/site-packages (from dash>=2.0.0->dash_bootstrap_components) (4.9.0)\n",
      "Requirement already satisfied: requests in /Users/macjianfeng/miniforge3/envs/spyder-env/lib/python3.11/site-packages (from dash>=2.0.0->dash_bootstrap_components) (2.31.0)\n",
      "Requirement already satisfied: retrying in /Users/macjianfeng/miniforge3/envs/spyder-env/lib/python3.11/site-packages (from dash>=2.0.0->dash_bootstrap_components) (1.3.4)\n",
      "Requirement already satisfied: ansi2html in /Users/macjianfeng/miniforge3/envs/spyder-env/lib/python3.11/site-packages (from dash>=2.0.0->dash_bootstrap_components) (1.9.1)\n",
      "Requirement already satisfied: nest-asyncio in /Users/macjianfeng/miniforge3/envs/spyder-env/lib/python3.11/site-packages (from dash>=2.0.0->dash_bootstrap_components) (1.5.8)\n",
      "Requirement already satisfied: setuptools in /Users/macjianfeng/miniforge3/envs/spyder-env/lib/python3.11/site-packages (from dash>=2.0.0->dash_bootstrap_components) (68.2.2)\n",
      "Requirement already satisfied: importlib-metadata in /Users/macjianfeng/miniforge3/envs/spyder-env/lib/python3.11/site-packages (from dash>=2.0.0->dash_bootstrap_components) (7.0.0)\n",
      "Requirement already satisfied: Jinja2>=3.1.2 in /Users/macjianfeng/miniforge3/envs/spyder-env/lib/python3.11/site-packages (from Flask<3.1,>=1.0.4->dash>=2.0.0->dash_bootstrap_components) (3.1.2)\n",
      "Requirement already satisfied: itsdangerous>=2.1.2 in /Users/macjianfeng/miniforge3/envs/spyder-env/lib/python3.11/site-packages (from Flask<3.1,>=1.0.4->dash>=2.0.0->dash_bootstrap_components) (2.1.2)\n",
      "Requirement already satisfied: click>=8.1.3 in /Users/macjianfeng/miniforge3/envs/spyder-env/lib/python3.11/site-packages (from Flask<3.1,>=1.0.4->dash>=2.0.0->dash_bootstrap_components) (8.1.7)\n",
      "Requirement already satisfied: blinker>=1.6.2 in /Users/macjianfeng/miniforge3/envs/spyder-env/lib/python3.11/site-packages (from Flask<3.1,>=1.0.4->dash>=2.0.0->dash_bootstrap_components) (1.7.0)\n",
      "Requirement already satisfied: tenacity>=6.2.0 in /Users/macjianfeng/miniforge3/envs/spyder-env/lib/python3.11/site-packages (from plotly>=5.0.0->dash>=2.0.0->dash_bootstrap_components) (8.2.3)\n",
      "Requirement already satisfied: packaging in /Users/macjianfeng/miniforge3/envs/spyder-env/lib/python3.11/site-packages (from plotly>=5.0.0->dash>=2.0.0->dash_bootstrap_components) (23.2)\n",
      "Requirement already satisfied: MarkupSafe>=2.1.1 in /Users/macjianfeng/miniforge3/envs/spyder-env/lib/python3.11/site-packages (from Werkzeug<3.1->dash>=2.0.0->dash_bootstrap_components) (2.1.3)\n",
      "Requirement already satisfied: zipp>=0.5 in /Users/macjianfeng/miniforge3/envs/spyder-env/lib/python3.11/site-packages (from importlib-metadata->dash>=2.0.0->dash_bootstrap_components) (3.17.0)\n",
      "Requirement already satisfied: charset-normalizer<4,>=2 in /Users/macjianfeng/miniforge3/envs/spyder-env/lib/python3.11/site-packages (from requests->dash>=2.0.0->dash_bootstrap_components) (3.3.2)\n",
      "Requirement already satisfied: idna<4,>=2.5 in /Users/macjianfeng/miniforge3/envs/spyder-env/lib/python3.11/site-packages (from requests->dash>=2.0.0->dash_bootstrap_components) (3.6)\n",
      "Requirement already satisfied: urllib3<3,>=1.21.1 in /Users/macjianfeng/miniforge3/envs/spyder-env/lib/python3.11/site-packages (from requests->dash>=2.0.0->dash_bootstrap_components) (1.26.18)\n",
      "Requirement already satisfied: certifi>=2017.4.17 in /Users/macjianfeng/miniforge3/envs/spyder-env/lib/python3.11/site-packages (from requests->dash>=2.0.0->dash_bootstrap_components) (2023.11.17)\n",
      "Requirement already satisfied: six>=1.7.0 in /Users/macjianfeng/miniforge3/envs/spyder-env/lib/python3.11/site-packages (from retrying->dash>=2.0.0->dash_bootstrap_components) (1.16.0)\n",
      "Downloading dash_bootstrap_components-1.5.0-py3-none-any.whl (221 kB)\n",
      "\u001b[2K   \u001b[90m━━━━━━━━━━━━━━━━━━━━━━━━━━━━━━━━━━━━━━━━\u001b[0m \u001b[32m221.2/221.2 kB\u001b[0m \u001b[31m3.1 MB/s\u001b[0m eta \u001b[36m0:00:00\u001b[0m \u001b[36m0:00:01\u001b[0m\n",
      "\u001b[?25hInstalling collected packages: dash_bootstrap_components\n",
      "Successfully installed dash_bootstrap_components-1.5.0\n",
      "Note: you may need to restart the kernel to use updated packages.\n"
     ]
    }
   ],
   "source": [
    "pip install dash_bootstrap_components"
   ]
  },
  {
   "cell_type": "code",
   "execution_count": 18,
   "metadata": {},
   "outputs": [
    {
     "data": {
      "text/html": [
       "\n",
       "        <iframe\n",
       "            width=\"100%\"\n",
       "            height=\"650\"\n",
       "            src=\"http://127.0.0.1:8050/\"\n",
       "            frameborder=\"0\"\n",
       "            allowfullscreen\n",
       "            \n",
       "        ></iframe>\n",
       "        "
      ],
      "text/plain": [
       "<IPython.lib.display.IFrame at 0x1596cd450>"
      ]
     },
     "metadata": {},
     "output_type": "display_data"
    }
   ],
   "source": [
    "# Import packages\n",
    "from dash import Dash, html, dash_table, dcc, callback, Output, Input\n",
    "import pandas as pd\n",
    "import plotly.express as px\n",
    "import dash_bootstrap_components as dbc\n",
    "\n",
    "# Incorporate data\n",
    "df = pd.read_csv(\n",
    "    \"https://raw.githubusercontent.com/plotly/datasets/master/gapminder2007.csv\"\n",
    ")\n",
    "\n",
    "# Initialize the app - incorporate a Dash Bootstrap theme\n",
    "external_stylesheets = [dbc.themes.CERULEAN]\n",
    "app = Dash(__name__, external_stylesheets=external_stylesheets)\n",
    "\n",
    "# App layout\n",
    "app.layout = dbc.Container(\n",
    "    [\n",
    "        dbc.Row(\n",
    "            [\n",
    "                html.Div(\n",
    "                    \"My First App with Data, Graph, and Controls\",\n",
    "                    className=\"text-primary text-center fs-3\",\n",
    "                )\n",
    "            ]\n",
    "        ),\n",
    "        dbc.Row(\n",
    "            [\n",
    "                dbc.RadioItems(\n",
    "                    options=[\n",
    "                        {\"label\": x, \"value\": x}\n",
    "                        for x in [\"pop\", \"lifeExp\", \"gdpPercap\"]\n",
    "                    ],\n",
    "                    value=\"lifeExp\",\n",
    "                    inline=True,\n",
    "                    id=\"radio-buttons-final\",\n",
    "                )\n",
    "            ]\n",
    "        ),\n",
    "        dbc.Row(\n",
    "            [\n",
    "                dbc.Col(\n",
    "                    [\n",
    "                        dash_table.DataTable(\n",
    "                            data=df.to_dict(\"records\"),\n",
    "                            page_size=12,\n",
    "                            style_table={\"overflowX\": \"auto\"},\n",
    "                        )\n",
    "                    ],\n",
    "                    width=6,\n",
    "                ),\n",
    "                dbc.Col([dcc.Graph(figure={}, id=\"my-first-graph-final\")], width=6),\n",
    "            ]\n",
    "        ),\n",
    "    ],\n",
    "    fluid=True,\n",
    ")\n",
    "\n",
    "\n",
    "# Add controls to build the interaction\n",
    "@callback(\n",
    "    Output(component_id=\"my-first-graph-final\", component_property=\"figure\"),\n",
    "    Input(component_id=\"radio-buttons-final\", component_property=\"value\"),\n",
    ")\n",
    "def update_graph(col_chosen):\n",
    "    fig = px.histogram(df, x=\"continent\", y=col_chosen, histfunc=\"avg\")\n",
    "    return fig\n",
    "\n",
    "\n",
    "# Run the app\n",
    "if __name__ == \"__main__\":\n",
    "    app.run(debug=True)"
   ]
  },
  {
   "cell_type": "markdown",
   "metadata": {},
   "source": [
    "<!-- @format -->\n",
    "\n",
    "### Dash Mantine Components\n",
    "\n",
    "Dash Mantine is a community-maintained library built off of the Mantine component system. Although it is not officially maintained or supported by the Plotly team, Dash Mantine is another powerful way of customizing app layouts. The Dash Mantine Components uses the Grid module to structure the layout. Instead of defining a row, we define a dmc.Grid, within which we insert dmc.Cols and define their width by assigning a number to the span property.\n",
    "\n",
    "For the app below to run successfully, make sure to install the Dash Mantine Components library: pip install dash-mantine-components\n"
   ]
  },
  {
   "cell_type": "code",
   "execution_count": 19,
   "metadata": {},
   "outputs": [
    {
     "name": "stdout",
     "output_type": "stream",
     "text": [
      "Collecting dash_mantine_components\n",
      "  Downloading dash_mantine_components-0.12.1-py3-none-any.whl (500 kB)\n",
      "\u001b[2K     \u001b[90m━━━━━━━━━━━━━━━━━━━━━━━━━━━━━━━━━━━━━━━\u001b[0m \u001b[32m500.8/500.8 kB\u001b[0m \u001b[31m5.5 MB/s\u001b[0m eta \u001b[36m0:00:00\u001b[0ma \u001b[36m0:00:01\u001b[0m\n",
      "\u001b[?25hInstalling collected packages: dash_mantine_components\n",
      "Successfully installed dash_mantine_components-0.12.1\n",
      "Note: you may need to restart the kernel to use updated packages.\n"
     ]
    }
   ],
   "source": [
    "pip install dash_mantine_components"
   ]
  },
  {
   "cell_type": "code",
   "execution_count": 20,
   "metadata": {},
   "outputs": [
    {
     "data": {
      "text/html": [
       "\n",
       "        <iframe\n",
       "            width=\"100%\"\n",
       "            height=\"650\"\n",
       "            src=\"http://127.0.0.1:8050/\"\n",
       "            frameborder=\"0\"\n",
       "            allowfullscreen\n",
       "            \n",
       "        ></iframe>\n",
       "        "
      ],
      "text/plain": [
       "<IPython.lib.display.IFrame at 0x15a1135d0>"
      ]
     },
     "metadata": {},
     "output_type": "display_data"
    }
   ],
   "source": [
    "# Import packages\n",
    "from dash import Dash, html, dash_table, dcc, callback, Output, Input\n",
    "import pandas as pd\n",
    "import plotly.express as px\n",
    "import dash_mantine_components as dmc\n",
    "\n",
    "# Incorporate data\n",
    "df = pd.read_csv(\n",
    "    \"https://raw.githubusercontent.com/plotly/datasets/master/gapminder2007.csv\"\n",
    ")\n",
    "\n",
    "# Initialize the app - incorporate a Dash Mantine theme\n",
    "external_stylesheets = [dmc.theme.DEFAULT_COLORS]\n",
    "app = Dash(__name__, external_stylesheets=external_stylesheets)\n",
    "\n",
    "# App layout\n",
    "app.layout = dmc.Container(\n",
    "    [\n",
    "        dmc.Title(\n",
    "            \"My First App with Data, Graph, and Controls\", color=\"blue\", size=\"h3\"\n",
    "        ),\n",
    "        dmc.RadioGroup(\n",
    "            [dmc.Radio(i, value=i) for i in [\"pop\", \"lifeExp\", \"gdpPercap\"]],\n",
    "            id=\"my-dmc-radio-item\",\n",
    "            value=\"lifeExp\",\n",
    "            size=\"sm\",\n",
    "        ),\n",
    "        dmc.Grid(\n",
    "            [\n",
    "                dmc.Col(\n",
    "                    [\n",
    "                        dash_table.DataTable(\n",
    "                            data=df.to_dict(\"records\"),\n",
    "                            page_size=12,\n",
    "                            style_table={\"overflowX\": \"auto\"},\n",
    "                        )\n",
    "                    ],\n",
    "                    span=6,\n",
    "                ),\n",
    "                dmc.Col([dcc.Graph(figure={}, id=\"graph-placeholder\")], span=6),\n",
    "            ]\n",
    "        ),\n",
    "    ],\n",
    "    fluid=True,\n",
    ")\n",
    "\n",
    "\n",
    "# Add controls to build the interaction\n",
    "@callback(\n",
    "    Output(component_id=\"graph-placeholder\", component_property=\"figure\"),\n",
    "    Input(component_id=\"my-dmc-radio-item\", component_property=\"value\"),\n",
    ")\n",
    "def update_graph(col_chosen):\n",
    "    fig = px.histogram(df, x=\"continent\", y=col_chosen, histfunc=\"avg\")\n",
    "    return fig\n",
    "\n",
    "\n",
    "# Run the App\n",
    "if __name__ == \"__main__\":\n",
    "    app.run(debug=True)"
   ]
  },
  {
   "cell_type": "markdown",
   "metadata": {},
   "source": [
    "<!-- @format -->\n",
    "\n",
    "Next Steps\n",
    "\n",
    "Congratulations! You have learned to build and style your first Dash app. This is the first step of an exciting Dash learning path that will give you the skills and tools to build sophisticated Python analytics apps.\n",
    "\n",
    "To continue your learning journey, we recommend you check out the following resources:\n",
    "https://dash-example-index.herokuapp.com\n",
    "100 simple examples of Dash components interacting with Plotly graphs\n",
    "Dash Core Components\n"
   ]
  }
 ],
 "metadata": {
  "kernelspec": {
   "display_name": "spyder-env",
   "language": "python",
   "name": "python3"
  },
  "language_info": {
   "codemirror_mode": {
    "name": "ipython",
    "version": 3
   },
   "file_extension": ".py",
   "mimetype": "text/x-python",
   "name": "python",
   "nbconvert_exporter": "python",
   "pygments_lexer": "ipython3",
   "version": "3.11.7"
  }
 },
 "nbformat": 4,
 "nbformat_minor": 2
}
